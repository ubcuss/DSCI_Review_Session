{
 "cells": [
  {
   "cell_type": "markdown",
   "id": "f91d3e90-2d63-4b92-a8a0-956dd0c6fd15",
   "metadata": {},
   "source": [
    "# DSCI 100 Review Session 3 Worksheet"
   ]
  },
  {
   "cell_type": "markdown",
   "id": "a5a2ee01-cc35-4133-ad83-152bf4f6f09d",
   "metadata": {},
   "source": [
    ">## Author: Omer Tahir"
   ]
  },
  {
   "cell_type": "markdown",
   "id": "d722afbe-f380-4b75-ad19-7ba7cde52d30",
   "metadata": {
    "tags": []
   },
   "source": [
    "### Loading relevant packages for notebook"
   ]
  },
  {
   "cell_type": "code",
   "execution_count": 1,
   "id": "646a90cd-0b48-40a9-adf6-93a0d907a4a3",
   "metadata": {},
   "outputs": [
    {
     "name": "stderr",
     "output_type": "stream",
     "text": [
      "-- \u001b[1mAttaching packages\u001b[22m ------------------------------------------------------------------------------- tidyverse 1.3.1 --\n",
      "\n",
      "\u001b[32mv\u001b[39m \u001b[34mggplot2\u001b[39m 3.4.0     \u001b[32mv\u001b[39m \u001b[34mpurrr  \u001b[39m 0.3.4\n",
      "\u001b[32mv\u001b[39m \u001b[34mtibble \u001b[39m 3.1.6     \u001b[32mv\u001b[39m \u001b[34mdplyr  \u001b[39m 1.0.7\n",
      "\u001b[32mv\u001b[39m \u001b[34mtidyr  \u001b[39m 1.1.3     \u001b[32mv\u001b[39m \u001b[34mstringr\u001b[39m 1.4.0\n",
      "\u001b[32mv\u001b[39m \u001b[34mreadr  \u001b[39m 2.1.1     \u001b[32mv\u001b[39m \u001b[34mforcats\u001b[39m 0.5.1\n",
      "\n",
      "Warning message:\n",
      "\"package 'ggplot2' was built under R version 4.1.3\"\n",
      "Warning message:\n",
      "\"package 'tibble' was built under R version 4.1.2\"\n",
      "Warning message:\n",
      "\"package 'readr' was built under R version 4.1.2\"\n",
      "-- \u001b[1mConflicts\u001b[22m ---------------------------------------------------------------------------------- tidyverse_conflicts() --\n",
      "\u001b[31mx\u001b[39m \u001b[34mdplyr\u001b[39m::\u001b[32mfilter()\u001b[39m masks \u001b[34mstats\u001b[39m::filter()\n",
      "\u001b[31mx\u001b[39m \u001b[34mdplyr\u001b[39m::\u001b[32mlag()\u001b[39m    masks \u001b[34mstats\u001b[39m::lag()\n",
      "\n"
     ]
    }
   ],
   "source": [
    "## Please use your DSCI100 jupyterlab servers for this worksheet.\n",
    "library(tidyverse)\n",
    "library(repr)\n",
    "library(broom)\n",
    "options(repr.matrix.max.rows = 6) #limits output of dataframes to 6 rows"
   ]
  },
  {
   "cell_type": "markdown",
   "id": "353b7f22-24f9-4ea1-820a-cceb215c7a32",
   "metadata": {},
   "source": [
    "## Chapter 10: Clustering"
   ]
  },
  {
   "cell_type": "markdown",
   "id": "7b96a31d-b326-4195-a22b-ee396bb3de97",
   "metadata": {
    "tags": []
   },
   "source": [
    "### 10.0 Important packages for chapter 10\n",
    "___"
   ]
  },
  {
   "cell_type": "markdown",
   "id": "70b371b3-e2b9-4ed2-8436-6584feb5d7e9",
   "metadata": {},
   "source": [
    "* `broom`\n",
    "    - provides us with the `augment()` function\n",
    "    - provides us with the `glance()` function"
   ]
  },
  {
   "cell_type": "markdown",
   "id": "815c92ce-fc56-4036-a190-23188a30151d",
   "metadata": {
    "tags": []
   },
   "source": [
    "### 10.1 Why perform clustering?\n",
    "___"
   ]
  },
  {
   "cell_type": "markdown",
   "id": "3543790f-a2ec-4107-a7df-1280356150ba",
   "metadata": {},
   "source": [
    "As part of exploratory data analysis, it is often helpful to see if there are meaningful subgroups (or clusters) in the data; this grouping can be used for many purposes, such as:\n",
    "1) _Generating new questions_\n",
    "2) _Improving predictive analyses_"
   ]
  },
  {
   "cell_type": "markdown",
   "id": "db3418d6-1acb-4369-bc7f-48b8aa07719f",
   "metadata": {
    "tags": []
   },
   "source": [
    "### 10.2 What is clustering?\n",
    "___"
   ]
  },
  {
   "cell_type": "markdown",
   "id": "b43af115-9a86-49fa-afdf-0e4619132ccc",
   "metadata": {},
   "source": [
    "- Clustering is a data analysis task involving separating a data set into subgroups of related data.  \n",
    "- We might use clustering to separate:  \n",
    "    - a data set of documents into groups that correspond to topics  \n",
    "    - a data set of human genetic information into groups that correspond to ancestral subpopulations  \n",
    "    - a data set of online customers into groups that correspond to purchasing behaviours. Once the data are separated  \n",
    "\n",
    "\n",
    "- The way to rigorously separate the data into groups is to use a clustering algorithm.  \n",
    "- In this chapter, we will focus on the **K-means algorithm**, a widely-used and often very effective clustering method, combined with the **elbow method** for selecting the number of clusters.  "
   ]
  },
  {
   "cell_type": "markdown",
   "id": "fef02b46-a3bb-4c33-8c05-3d0fae0b4ff0",
   "metadata": {
    "tags": []
   },
   "source": [
    "### 10.3 K-means Algorithm\n",
    "___"
   ]
  },
  {
   "cell_type": "markdown",
   "id": "351ee3c0-2d2f-4ed0-826c-8b56b5de05bb",
   "metadata": {},
   "source": [
    "#### 10.3.1 Measuring Cluster Quality\n"
   ]
  },
  {
   "cell_type": "markdown",
   "id": "9266abca-a35a-43db-aef8-a201145f35b1",
   "metadata": {},
   "source": [
    "- The **K-means algorithm** is a procedure that groups data into $K$ clusters.\n",
    "- It starts with an initial clustering of the data, and then iteratively improves it by making adjustments to the assignment of data to clusters until it cannot improve any further.\n",
    "- In **K-means clustering**, we measure the quality of a cluster by its within-cluster sum-of-squared-distances ($\\text{WSSD}$)"
   ]
  },
  {
   "cell_type": "markdown",
   "id": "283999cf-a938-496a-bce5-ffe4450cb117",
   "metadata": {},
   "source": [
    "Computing this involves two steps:\n",
    "1. We find the cluster centers by computing the mean of each variable over data points in the cluster. For example, suppose we have a cluster containing four observations, and we are using two variables, $x$ and $y$, to cluster the data. Then we would compute the $\\mu_x$  and $\\mu_y$ , of the cluster center where:  \n",
    "    - $\\mu_x$ = `mean(x)`  \n",
    "    - $\\mu_y$ = `mean(y)`  "
   ]
  },
  {
   "cell_type": "markdown",
   "id": "afffebd1-56bc-4f0e-924f-d3fafb6e6f16",
   "metadata": {},
   "source": [
    "2. The second step in computing the $\\text{WSSD}$ is to add up the squared distance between each point in the cluster and the cluster center. We use the straight-line / Euclidean distance formula that we learned about in the classification chapter:  \n",
    "$$S^{2} = \\sum_{i=1}^{N}\\left( (x_i - \\mu_x)^{2} + (y_i - \\mu_y)^2 \\right)$$  \n",
    "(_$\\text{WSSD}$ and $S^2$ are used interchangeably_)  \n",
    "  \n",
    "  "
   ]
  },
  {
   "cell_type": "markdown",
   "id": "89f2b9ca-d278-477b-b35d-0c5cf8fa2913",
   "metadata": {},
   "source": [
    "#### 10.3.2 The Clustering Algorithm\n"
   ]
  },
  {
   "cell_type": "markdown",
   "id": "c9936c4f-e34e-4884-a2dc-7d290b987b78",
   "metadata": {},
   "source": [
    "1) We begin the _K-means_ algorithm by picking $K$, and uniformly randomly assigning data to the $K$ clusters.\n",
    "\n",
    "2) Then K-means consists of two major steps that attempt to minimize the sum of $\\text{WSSD}$s over all the clusters, i.e. $\\text{total WSSD}$:  \n",
    "i) **Center update**: Compute the center of each cluster.  \n",
    "ii) **Label update**: Reassign each data point i.e. ($x_i$,$y_i$), to the cluster with the nearest center i.e. one of the ($\\mu_x$, $\\mu_y$).  \n",
    "\n",
    "_These two steps are repeated until the cluster assignments no longer change._  \n",
    "\n",
    "3) Unlike the classification and regression models we studied in previous chapters, K-means can get “stuck” in a bad solution.\n",
    "    To solve this problem when clustering data using K-means, we should randomly re-initialize the labels a few times, run K-means for each initialization, and pick the clustering that has the lowest final $\\text{total WSSD}$.  \n",
    "\n",
    "4) In order to cluster data using K-means, we also have to pick the number of clusters, $K$.  \n",
    "    - If we set $K<3$, then the clustering merges separate groups of data; this causes a large $\\text{total WSSD}$, since the cluster center (denoted by an “$x$”) is not close to any of the data in the cluster.  \n",
    "    - If we set $K>3$, the clustering subdivides subgroups of data; this does indeed still decrease the $\\text{total WSSD}$, but by only a diminishing amount.  \n",
    "    - If we plot the $\\text{total WSSD}$ versus the number of clusters, we see that the decrease in $\\text{total WSSD}$ levels off (or forms an “**elbow shape**”) when we reach roughly the right number of clusters.  "
   ]
  },
  {
   "cell_type": "markdown",
   "id": "9cdca44d-5271-4f1f-a376-2edb4c6fe24a",
   "metadata": {},
   "source": [
    "<center><img src=\"data_3/kmeans.png\" width=500 height=400 /></center>"
   ]
  },
  {
   "cell_type": "markdown",
   "id": "17de8f65-fab6-4dbb-8361-dfb39d04ee47",
   "metadata": {},
   "source": [
    "#### 10.3.3 Data Preprocessing for K-Means"
   ]
  },
  {
   "cell_type": "markdown",
   "id": "290e7dc4-a1e1-465f-b063-03eba014e76c",
   "metadata": {},
   "source": [
    "- **K-means** uses the Euclidean distance to compute how similar data points are to each cluster center.  \n",
    "- Similar to K-nearest neighbours classification and regression, **K-means** clustering uses straight-line distance to decide which points are similar to each other.  \n",
    "- Therefore, the scale of each of the variables in the data will influence which cluster data points end up being assigned.  \n",
    "- To address this problem, we typically **standardize** our data before clustering, which ensures that each variable has a mean of 0 and standard deviation of 1 (scaling can however cause loss of interpretability of the variables once we plot them).  \n",
    "- The `scale()` function in R can be used to do this.  "
   ]
  },
  {
   "cell_type": "markdown",
   "id": "f7821de2-7e54-4791-8cdb-fc65215ea753",
   "metadata": {
    "tags": []
   },
   "source": [
    "### 10.4 Common functions we may use in this chapter\n",
    "___"
   ]
  },
  {
   "cell_type": "markdown",
   "id": "c4ed49f8-0a6c-49f9-a5b2-a6533cca9a32",
   "metadata": {},
   "source": [
    "* `map_df(df, function)`\n",
    "    - 1st argument requires the dataframe whose columns will be transformed.\n",
    "    - 2nd argument requires the specified function to be applied to each column of the dataframe.\n",
    "    - this can be used with the `scale()` function to scale each column of the data frame.\n",
    "    - when using `map_df()` we do not include the parenthesis of the function we are using.\n",
    "    - Eg. `map_df(df, scale)`"
   ]
  },
  {
   "cell_type": "markdown",
   "id": "cbc79403-d6b8-4738-8ee3-8655fa9ec998",
   "metadata": {},
   "source": [
    "## **OR**\n",
    "_Note: I noticed that the UBC DSCI 100 textbook is now using a few different functions to execute the K-Means algorithm. All of these functions are alternatives to the ones in the old version which I did. They basically do the exact same thing but look more fancy. I have adjusted the code example according to the new version so that it stays familiar to all of you. `map_df()` is the older version while `mutate(df, across(everything(), function))` is the newer version.  \n",
    "I will not be mentioning any functions from the old version from this point forward_"
   ]
  },
  {
   "cell_type": "markdown",
   "id": "d8cb0ee3-6747-41db-81b9-e40ac200e962",
   "metadata": {},
   "source": [
    "* `mutate(df, across(everything(), function))`\n",
    "    - This combination of functions allows you to apply a transformation to each column.\n",
    "    - It is an alternative to the above `map_df()` function.\n",
    "    - 1st argument requires the dataframe whose columns will be transformed.\n",
    "    - 2nd argument requires the `across()` function which makes it easy to apply the same transformation to multiple columns, allowing you to use `select()` semantics inside in \"data-masking\" functions like `summarise()` and `mutate()`.\n",
    "        - 1st argument requires the `everything()` function which selects all variable. It is very useful in combination with other tidyselect operators i.e. `across()`\n",
    "        - 2nd argument requires the specified function to be applied to each column of the dataframe."
   ]
  },
  {
   "cell_type": "markdown",
   "id": "433e692d-eb03-46c6-a55a-e87a1f1da5d1",
   "metadata": {},
   "source": [
    "* `rowwise()`\n",
    "    * Row-wise operations require a special type of grouping where each group consists of a single row. You create this with rowwise()\n",
    "    * Like `group_by()`, `rowwise()` doesn’t really do anything itself; it just changes how the other verbs work."
   ]
  },
  {
   "cell_type": "markdown",
   "id": "97f1a1f8-315e-46a5-aa12-ad55526f0610",
   "metadata": {},
   "source": [
    "* `kmeans(scaled_df, nstart = ..., centers = ...)`\n",
    "    * 1st argument requires the scaled dataframe\n",
    "    * `nstart` argument in the kmeans function specifies the number of restarts. ***(this is done to counter bad clustering)*** (I was asked this in my Quiz 3)\n",
    "    * **Bad clustering** happens because of the random selection of points which can cause the K-means algorithm to get stuck on a bad initialization and the clusters cannot be subdivided further. To counter this, we can use the `nstart` argument in the kmeans function. `nstart` tells R how many times to run the K-means algorithm using different random starts, and returns the best one.\n",
    "    * centers argument specifies the number of clusters.\n",
    "    * Note that since the K-means algorithm uses a random initialization of assignments, we need to set the random seed to make the clustering reproducible."
   ]
  },
  {
   "cell_type": "markdown",
   "id": "92163554-8832-49f7-be31-7e603204c9ae",
   "metadata": {},
   "source": [
    "* `augment(kmeans_object, original_data)`\n",
    "    * takes in the model and the original data frame, and returns a data frame with the data and the cluster assignments for each point\n",
    "    * this function helps us to plot and identify different clusters."
   ]
  },
  {
   "cell_type": "markdown",
   "id": "ce2fd233-919a-4914-8bc7-28b51a258ab9",
   "metadata": {},
   "source": [
    "* `glance(kmeans_object)`\n",
    "    * obtains the clustering statistics (including $\\text{WSSD}$) for  the K-means clustering object.\n",
    "    * can be nested in the `map()` function to obtain clustering statistics for each kmeans object."
   ]
  },
  {
   "cell_type": "markdown",
   "id": "1ce32682-2f9a-4f91-a8f0-07aabeca7a3f",
   "metadata": {},
   "source": [
    "* `unnest(glanced)`\n",
    "    * unpacks the data frames into simpler column data types.\n",
    "    * this is used when a data frame containing clustering statistics for each k-means object is created and we want to \"unpack\" these statistics.\n",
    "    * the reason why we have to unpack these statistics is because each value of the column/vector is a list of statistics. Therefore, these lists are nested inside each element of the vector. Each list has a common set of statistics therefore `unnest()` produces new columns/vectors for each of these statistics allowing the columns of the dataframe to have one single value rather than nested lists. "
   ]
  },
  {
   "cell_type": "markdown",
   "id": "64dd9f0e-f2f9-45b8-8321-a39302431f32",
   "metadata": {
    "tags": []
   },
   "source": [
    "### 10.5 K-means Algorithm Code Template\n",
    "___"
   ]
  },
  {
   "cell_type": "markdown",
   "id": "906a362d-14ca-44bb-b45c-939f5108466d",
   "metadata": {},
   "source": [
    "```{r}\n",
    "set.seed(1234)\n",
    "\n",
    "##(1)##\n",
    "standardized_data <- \n",
    "    not_standardized_data |>\n",
    "    select(c(...)) |>\n",
    "    mutate(across(everything(), scale))\n",
    "\n",
    "##(2)##\n",
    "elbow_stats <- \n",
    "    tibble(k = 1:10) |>\n",
    "    rowwise() |>\n",
    "    mutate(clusters = list(kmeans(standardized_data, centers = k, nstart = ...)),       ##(i)##\n",
    "           glanced = list(glance(clusters)))                                            ##(ii)##\n",
    "\n",
    "##(3)##\n",
    "clustering_statistics <- \n",
    "    elbow_stats |>\n",
    "    select(-clusters) |>\n",
    "    unnest(glanced)\n",
    "\n",
    "clustering_statistics\n",
    "\n",
    "##(4)##\n",
    "elbow_plot <- \n",
    "    ggplot(clustering_statistics, aes(x = k, y = tot.withinss)) +\n",
    "    geom_point(size = 2) +\n",
    "    geom_line() +\n",
    "    labs(x = \"K\",\n",
    "         y = \"Total within-cluster sum of squares\",\n",
    "         title = \"Elbow Plot\") +\n",
    "    scale_x_continuous(breaks = 1:10) +\n",
    "    theme(text = element_text(size = 20))\n",
    "\n",
    "elbow_plot\n",
    "\n",
    "##(5)##\n",
    "optimal_kmeans_object <- kmeans(standardized_data, nstart = 10, centers = ...)\n",
    "optimal_kmeans_object\n",
    "\n",
    "##(6)##\n",
    "cluster_assignments <- augment(optimal_kmeans_object, standardized_data)\n",
    "cluster_assignments\n",
    "\n",
    "##(7)##\n",
    "cluster_assignments |>\n",
    "    pivot_longer(cols = -.cluster, names_to = 'category', values_to = 'value')  |> \n",
    "    ggplot(aes(value, fill = .cluster)) +\n",
    "        geom_density(alpha = 0.4, colour = 'white') +\n",
    "        facet_wrap(~ category, scales = 'free') +\n",
    "        theme_minimal() +\n",
    "        theme(text = element_text(size = 20))\n",
    "\n",
    "##(8)##\n",
    "glance(optimal_kmeans_object)\n",
    "```"
   ]
  },
  {
   "cell_type": "markdown",
   "id": "8801bde4-1593-4a81-919d-da8f8176fbae",
   "metadata": {},
   "source": [
    "##### **(1) <u>Pre-Process the data</u>**  \n",
    "- We select the variables we want for clustering.  \n",
    "- We then use `mutate(df, across(everything(), scale))` to standardize the selected variables.  "
   ]
  },
  {
   "cell_type": "markdown",
   "id": "3d968bdc-4e32-4eee-bf7c-39467ef79a74",
   "metadata": {},
   "source": [
    "##### **(2) <u>Getting K-Means object for each $K$ value</u>**  \n",
    "- To calculate the $\\text{total WSSD}$ for a variety of $K$s, we will create a data frame with a column named `k` with rows containing each value of $K$ we want to run K-means with (here, 1 to 10).  \n",
    "- We then use the `rowwise()` function in conjunction with `mutate()` to allow us to perform operations on each individual row. This is done because each row contains each distinct k-value which we will use as an argument to the `kmeans()` function.    \n",
    "##### **(i) <u>Create clusters for each $K$ value</u>**  \n",
    "- We create a new column called cluster.  \n",
    "- The `kmeans()` function is nested inside the `list()` function. This is because the `kmeans()` function returns a kmeans object which cannot be stored as a value inside a vector/column. Nesting the kmeans object inside the list converts the kmeans object into a list object. List objects can be stored in a vector/column as one of its values.  \n",
    "- To prevent finding a bad clustering, when clustering data using K-means, we should randomly re-initialize the labels a few times. This is done via the `nstart` argument in the kmeans function where we specify the number of restarts.  \n",
    "##### **(ii) <u>Obtaining Cluster statistics for each K-MEAN object</u>**  \n",
    "- Next, we apply the `glance()` function on each of the K-means clustering objects to get their respective clustering statistics (including $\\text{WSSD}$). _Remember we are still operating rowwise_.  \n",
    "- The output of glance is a data frame, and so we get another list column. This results in a complex data frame with 3 columns, one for K, one for the K-means clustering objects, and one for the clustering statistics.  ?"
   ]
  },
  {
   "cell_type": "markdown",
   "id": "939b1e42-7b31-4ff2-bd32-e6e17d8ddf71",
   "metadata": {},
   "source": [
    "##### **(3) <u>Unnesting the Cluster statistics dataframe for each K-MEAN object</u>**  \n",
    "- We first remove the kmeans object column as it overloads the table with information making it unreadable\n",
    "- Finally we extract the $\\text{total WSSD}$ from the glanced column. Given that each item in this column is a data frame, we will need to use the `unnest()` function to unpack the data frames into simpler column data types.  "
   ]
  },
  {
   "cell_type": "markdown",
   "id": "dde9c886-e266-4a5f-9017-6a6f4c7d1010",
   "metadata": {},
   "source": [
    "##### **(4) <u>Elbow plot</u>**  \n",
    "- Now that we have `tot.withinss` and `k` as columns in a data frame, we can make a line plot and search for the “elbow” to find which value of $K$ to use.  \n",
    "-  The “bump” in the total $\\text{WSSD}$ plot may be observed due to bad initialization causing the algorithm to get stuck in a bad clustering.  \n",
    "  \n",
    "As we add more and more clusters, this does indeed still decrease the $\\text{total WSSD}$, but by only a diminishing amount. Therefore, we choose the right number of clusters when the $\\text{total WSSD}$ levels off (or forms an \"elbow shape\"). We can observe that the decrease in $\\text{total WSSD}$ forms an elbow when we reach $K$ = $k$ clusters where $k$ is the optimal number of clusters.  "
   ]
  },
  {
   "cell_type": "markdown",
   "id": "fddcf4cc-0bc6-4723-bcec-8cd89a9d76f6",
   "metadata": {},
   "source": [
    "##### **(5) <u>Applying K-Means function</u>**  \n",
    "- To perform K-means clustering in R, we use the `kmeans()` function.  \n",
    "- It takes at least two arguments: the data frame containing the data you wish to cluster, and $k$, the number of **optimal clusters**. \n",
    "- `kmeans_object[2]` returns the centers for each variable per cluster.  "
   ]
  },
  {
   "cell_type": "markdown",
   "id": "6c573240-e713-4e42-b1f4-5845a96f60ed",
   "metadata": {},
   "source": [
    "##### **(6) <u>Using `augment()` to obtain info in tidy format</u>**  \n",
    "- `kmeans()` has a lot of information that can be used to visualize the clusters, pick $K$, and evaluate the $\\text{total WSSD}$.  \n",
    "- To obtain this information in a tidy format, we use the `augment()` function, which takes in the model and the original data frame, and returns a data frame with the data and the cluster assignments for each point.  "
   ]
  },
  {
   "cell_type": "markdown",
   "id": "57336426-eb58-4406-b10b-f5856786e68c",
   "metadata": {},
   "source": [
    "##### **(7) <u>Visualization of the cluster assignment in tidy format</u>**  \n",
    "- Now that we have this information in a tidy data frame, we can make a visualization of the cluster assignments for each point.  "
   ]
  },
  {
   "cell_type": "markdown",
   "id": "6baafc15-113c-4786-a2e1-821b40a76dec",
   "metadata": {},
   "source": [
    "##### **(8) <u>Obtaining total WSSD from glance()</u>**  \n",
    "- We obtain the $\\text{total WSSD}$ (`tot.withinss`) from our clustering using broom’s `glance()` function.  "
   ]
  },
  {
   "cell_type": "markdown",
   "id": "18948d4f-298f-4073-9d3a-0aff8b98e0b7",
   "metadata": {
    "tags": []
   },
   "source": [
    "### 10.6 Disadvantages of multi-dimensional data\n",
    "___"
   ]
  },
  {
   "cell_type": "markdown",
   "id": "8a4f26b6-2b51-4f20-8536-8838015423dc",
   "metadata": {},
   "source": [
    "* Makes it really difficult for one to interpret the different properties each clusters has.  \n",
    "* Since we cannot visualize the clusters in a higher-dimensional space, it becomes difficult to assess the accuracy of our model.  "
   ]
  },
  {
   "cell_type": "markdown",
   "id": "45e5e96b-5744-43f8-a500-9da09e8f9357",
   "metadata": {
    "tags": []
   },
   "source": [
    "### 10.7 Review exercise for Chapter 10 (K-Means Clustering)\n",
    "___"
   ]
  },
  {
   "cell_type": "markdown",
   "id": "6d5dfe25-5eac-4456-bcf8-08f6001e735f",
   "metadata": {},
   "source": [
    "**Exercise:**  \n",
    "For this exercise, from $k$ = 1 to $k$ = 10, you will calculate the total within-cluster sum of squares. You will also only use the continuous variables of the data for clustering excluding `Generation`:  \n",
    "  \n",
    "1. Following good practice, make sure you are using the standardized data, i.e. Pre-Process the data  \n",
    "2. Create a tibble with the $k$ values. Get K-Means object for each $K$ value  \n",
    "i) create a new column `poke_clusts` by applying `kmeans` to each value of `k` (set `nstart` to be 10)  \n",
    "ii) create a new column `glanced` by applying `glance` to each of the results  \n",
    "3. Remove the `poke_clusts` column and `unnest` the results of `glance()`  \n",
    "4. Create the elbow plot  \n",
    "5. Obtain the optimal number of clusters and use it to make the final kmeans object. Obtain the centers for each cluster.  \n",
    "6. Obtain the key statistics of the kmeans object in a tidy format  \n",
    "7. Visualize the cluster assignment  "
   ]
  },
  {
   "cell_type": "code",
   "execution_count": 2,
   "id": "579c0fb1-4369-4e4a-bc9d-097c4407cdca",
   "metadata": {},
   "outputs": [
    {
     "name": "stderr",
     "output_type": "stream",
     "text": [
      "\u001b[1mRows: \u001b[22m\u001b[34m800\u001b[39m \u001b[1mColumns: \u001b[22m\u001b[34m13\u001b[39m\n",
      "\u001b[36m--\u001b[39m \u001b[1mColumn specification\u001b[22m \u001b[36m------------------------------------------------------------------------------------------------\u001b[39m\n",
      "\u001b[1mDelimiter:\u001b[22m \",\"\n",
      "\u001b[31mchr\u001b[39m (3): Name, Type 1, Type 2\n",
      "\u001b[32mdbl\u001b[39m (9): #, Total, HP, Attack, Defense, Sp. Atk, Sp. Def, Speed, Generation\n",
      "\u001b[33mlgl\u001b[39m (1): Legendary\n",
      "\n",
      "\u001b[36mi\u001b[39m Use \u001b[30m\u001b[47m\u001b[30m\u001b[47m`spec()`\u001b[47m\u001b[30m\u001b[49m\u001b[39m to retrieve the full column specification for this data.\n",
      "\u001b[36mi\u001b[39m Specify the column types or set \u001b[30m\u001b[47m\u001b[30m\u001b[47m`show_col_types = FALSE`\u001b[47m\u001b[30m\u001b[49m\u001b[39m to quiet this message.\n"
     ]
    },
    {
     "data": {
      "text/html": [
       "<table class=\"dataframe\">\n",
       "<caption>A spec_tbl_df: 800 × 13</caption>\n",
       "<thead>\n",
       "\t<tr><th scope=col>#</th><th scope=col>Name</th><th scope=col>Type 1</th><th scope=col>Type 2</th><th scope=col>Total</th><th scope=col>HP</th><th scope=col>Attack</th><th scope=col>Defense</th><th scope=col>Sp. Atk</th><th scope=col>Sp. Def</th><th scope=col>Speed</th><th scope=col>Generation</th><th scope=col>Legendary</th></tr>\n",
       "\t<tr><th scope=col>&lt;dbl&gt;</th><th scope=col>&lt;chr&gt;</th><th scope=col>&lt;chr&gt;</th><th scope=col>&lt;chr&gt;</th><th scope=col>&lt;dbl&gt;</th><th scope=col>&lt;dbl&gt;</th><th scope=col>&lt;dbl&gt;</th><th scope=col>&lt;dbl&gt;</th><th scope=col>&lt;dbl&gt;</th><th scope=col>&lt;dbl&gt;</th><th scope=col>&lt;dbl&gt;</th><th scope=col>&lt;dbl&gt;</th><th scope=col>&lt;lgl&gt;</th></tr>\n",
       "</thead>\n",
       "<tbody>\n",
       "\t<tr><td>1</td><td>Bulbasaur</td><td>Grass</td><td>Poison</td><td>318</td><td>45</td><td>49</td><td>49</td><td> 65</td><td> 65</td><td>45</td><td>1</td><td>FALSE</td></tr>\n",
       "\t<tr><td>2</td><td>Ivysaur  </td><td>Grass</td><td>Poison</td><td>405</td><td>60</td><td>62</td><td>63</td><td> 80</td><td> 80</td><td>60</td><td>1</td><td>FALSE</td></tr>\n",
       "\t<tr><td>3</td><td>Venusaur </td><td>Grass</td><td>Poison</td><td>525</td><td>80</td><td>82</td><td>83</td><td>100</td><td>100</td><td>80</td><td>1</td><td>FALSE</td></tr>\n",
       "\t<tr><td>⋮</td><td>⋮</td><td>⋮</td><td>⋮</td><td>⋮</td><td>⋮</td><td>⋮</td><td>⋮</td><td>⋮</td><td>⋮</td><td>⋮</td><td>⋮</td><td>⋮</td></tr>\n",
       "\t<tr><td>720</td><td>HoopaHoopa Confined</td><td>Psychic</td><td>Ghost</td><td>600</td><td>80</td><td>110</td><td> 60</td><td>150</td><td>130</td><td>70</td><td>6</td><td>TRUE</td></tr>\n",
       "\t<tr><td>720</td><td>HoopaHoopa Unbound </td><td>Psychic</td><td>Dark </td><td>680</td><td>80</td><td>160</td><td> 60</td><td>170</td><td>130</td><td>80</td><td>6</td><td>TRUE</td></tr>\n",
       "\t<tr><td>721</td><td>Volcanion          </td><td>Fire   </td><td>Water</td><td>600</td><td>80</td><td>110</td><td>120</td><td>130</td><td> 90</td><td>70</td><td>6</td><td>TRUE</td></tr>\n",
       "</tbody>\n",
       "</table>\n"
      ],
      "text/latex": [
       "A spec\\_tbl\\_df: 800 × 13\n",
       "\\begin{tabular}{lllllllllllll}\n",
       " \\# & Name & Type 1 & Type 2 & Total & HP & Attack & Defense & Sp. Atk & Sp. Def & Speed & Generation & Legendary\\\\\n",
       " <dbl> & <chr> & <chr> & <chr> & <dbl> & <dbl> & <dbl> & <dbl> & <dbl> & <dbl> & <dbl> & <dbl> & <lgl>\\\\\n",
       "\\hline\n",
       "\t 1 & Bulbasaur & Grass & Poison & 318 & 45 & 49 & 49 &  65 &  65 & 45 & 1 & FALSE\\\\\n",
       "\t 2 & Ivysaur   & Grass & Poison & 405 & 60 & 62 & 63 &  80 &  80 & 60 & 1 & FALSE\\\\\n",
       "\t 3 & Venusaur  & Grass & Poison & 525 & 80 & 82 & 83 & 100 & 100 & 80 & 1 & FALSE\\\\\n",
       "\t ⋮ & ⋮ & ⋮ & ⋮ & ⋮ & ⋮ & ⋮ & ⋮ & ⋮ & ⋮ & ⋮ & ⋮ & ⋮\\\\\n",
       "\t 720 & HoopaHoopa Confined & Psychic & Ghost & 600 & 80 & 110 &  60 & 150 & 130 & 70 & 6 & TRUE\\\\\n",
       "\t 720 & HoopaHoopa Unbound  & Psychic & Dark  & 680 & 80 & 160 &  60 & 170 & 130 & 80 & 6 & TRUE\\\\\n",
       "\t 721 & Volcanion           & Fire    & Water & 600 & 80 & 110 & 120 & 130 &  90 & 70 & 6 & TRUE\\\\\n",
       "\\end{tabular}\n"
      ],
      "text/markdown": [
       "\n",
       "A spec_tbl_df: 800 × 13\n",
       "\n",
       "| # &lt;dbl&gt; | Name &lt;chr&gt; | Type 1 &lt;chr&gt; | Type 2 &lt;chr&gt; | Total &lt;dbl&gt; | HP &lt;dbl&gt; | Attack &lt;dbl&gt; | Defense &lt;dbl&gt; | Sp. Atk &lt;dbl&gt; | Sp. Def &lt;dbl&gt; | Speed &lt;dbl&gt; | Generation &lt;dbl&gt; | Legendary &lt;lgl&gt; |\n",
       "|---|---|---|---|---|---|---|---|---|---|---|---|---|\n",
       "| 1 | Bulbasaur | Grass | Poison | 318 | 45 | 49 | 49 |  65 |  65 | 45 | 1 | FALSE |\n",
       "| 2 | Ivysaur   | Grass | Poison | 405 | 60 | 62 | 63 |  80 |  80 | 60 | 1 | FALSE |\n",
       "| 3 | Venusaur  | Grass | Poison | 525 | 80 | 82 | 83 | 100 | 100 | 80 | 1 | FALSE |\n",
       "| ⋮ | ⋮ | ⋮ | ⋮ | ⋮ | ⋮ | ⋮ | ⋮ | ⋮ | ⋮ | ⋮ | ⋮ | ⋮ |\n",
       "| 720 | HoopaHoopa Confined | Psychic | Ghost | 600 | 80 | 110 |  60 | 150 | 130 | 70 | 6 | TRUE |\n",
       "| 720 | HoopaHoopa Unbound  | Psychic | Dark  | 680 | 80 | 160 |  60 | 170 | 130 | 80 | 6 | TRUE |\n",
       "| 721 | Volcanion           | Fire    | Water | 600 | 80 | 110 | 120 | 130 |  90 | 70 | 6 | TRUE |\n",
       "\n"
      ],
      "text/plain": [
       "    #   Name                Type 1  Type 2 Total HP Attack Defense Sp. Atk\n",
       "1   1   Bulbasaur           Grass   Poison 318   45 49     49       65    \n",
       "2   2   Ivysaur             Grass   Poison 405   60 62     63       80    \n",
       "3   3   Venusaur            Grass   Poison 525   80 82     83      100    \n",
       "<U+22EE>   <U+22EE> <U+22EE>            <U+22EE> <U+22EE> <U+22EE> <U+22EE> <U+22EE> <U+22EE> <U+22EE>\n",
       "798 720 HoopaHoopa Confined Psychic Ghost  600   80 110     60     150    \n",
       "799 720 HoopaHoopa Unbound  Psychic Dark   680   80 160     60     170    \n",
       "800 721 Volcanion           Fire    Water  600   80 110    120     130    \n",
       "    Sp. Def Speed Generation Legendary\n",
       "1    65     45    1          FALSE    \n",
       "2    80     60    1          FALSE    \n",
       "3   100     80    1          FALSE    \n",
       "<U+22EE>   <U+22EE> <U+22EE> <U+22EE>   <U+22EE> \n",
       "798 130     70    6          TRUE     \n",
       "799 130     80    6          TRUE     \n",
       "800  90     70    6          TRUE     "
      ]
     },
     "metadata": {},
     "output_type": "display_data"
    }
   ],
   "source": [
    "pm_data <- read_csv(\"data_3/pokemon.csv\")\n",
    "pm_data"
   ]
  },
  {
   "cell_type": "code",
   "execution_count": 3,
   "id": "3aa8bafc-4618-4b72-878c-d67ca1192b03",
   "metadata": {},
   "outputs": [
    {
     "data": {
      "text/html": [
       "<strong>$centers</strong> = <table class=\"dataframe\">\n",
       "<caption>A matrix: 3 × 7 of type dbl</caption>\n",
       "<thead>\n",
       "\t<tr><th></th><th scope=col>Total</th><th scope=col>HP</th><th scope=col>Attack</th><th scope=col>Defense</th><th scope=col>Sp. Atk</th><th scope=col>Sp. Def</th><th scope=col>Speed</th></tr>\n",
       "</thead>\n",
       "<tbody>\n",
       "\t<tr><th scope=row>1</th><td>-1.0851804</td><td>-0.7517973</td><td>-0.7671034</td><td>-0.6844715</td><td>-0.73760572</td><td>-0.8112439</td><td>-0.62043301</td></tr>\n",
       "\t<tr><th scope=row>2</th><td> 0.2902074</td><td> 0.3358016</td><td> 0.2073275</td><td> 0.2867168</td><td> 0.03300502</td><td> 0.2457576</td><td> 0.09119871</td></tr>\n",
       "\t<tr><th scope=row>3</th><td> 1.4182068</td><td> 0.6569424</td><td> 0.9972429</td><td> 0.6440481</td><td> 1.36081514</td><td> 0.9905991</td><td> 0.99137229</td></tr>\n",
       "</tbody>\n",
       "</table>\n"
      ],
      "text/latex": [
       "\\textbf{\\$centers} = A matrix: 3 × 7 of type dbl\n",
       "\\begin{tabular}{r|lllllll}\n",
       "  & Total & HP & Attack & Defense & Sp. Atk & Sp. Def & Speed\\\\\n",
       "\\hline\n",
       "\t1 & -1.0851804 & -0.7517973 & -0.7671034 & -0.6844715 & -0.73760572 & -0.8112439 & -0.62043301\\\\\n",
       "\t2 &  0.2902074 &  0.3358016 &  0.2073275 &  0.2867168 &  0.03300502 &  0.2457576 &  0.09119871\\\\\n",
       "\t3 &  1.4182068 &  0.6569424 &  0.9972429 &  0.6440481 &  1.36081514 &  0.9905991 &  0.99137229\\\\\n",
       "\\end{tabular}\n"
      ],
      "text/markdown": [
       "**$centers** = \n",
       "A matrix: 3 × 7 of type dbl\n",
       "\n",
       "| <!--/--> | Total | HP | Attack | Defense | Sp. Atk | Sp. Def | Speed |\n",
       "|---|---|---|---|---|---|---|---|\n",
       "| 1 | -1.0851804 | -0.7517973 | -0.7671034 | -0.6844715 | -0.73760572 | -0.8112439 | -0.62043301 |\n",
       "| 2 |  0.2902074 |  0.3358016 |  0.2073275 |  0.2867168 |  0.03300502 |  0.2457576 |  0.09119871 |\n",
       "| 3 |  1.4182068 |  0.6569424 |  0.9972429 |  0.6440481 |  1.36081514 |  0.9905991 |  0.99137229 |\n",
       "\n"
      ],
      "text/plain": [
       "$centers\n",
       "       Total         HP     Attack    Defense     Sp. Atk    Sp. Def\n",
       "1 -1.0851804 -0.7517973 -0.7671034 -0.6844715 -0.73760572 -0.8112439\n",
       "2  0.2902074  0.3358016  0.2073275  0.2867168  0.03300502  0.2457576\n",
       "3  1.4182068  0.6569424  0.9972429  0.6440481  1.36081514  0.9905991\n",
       "        Speed\n",
       "1 -0.62043301\n",
       "2  0.09119871\n",
       "3  0.99137229\n"
      ]
     },
     "metadata": {},
     "output_type": "display_data"
    },
    {
     "data": {
      "image/png": "[encoded data removed]",
      "text/plain": [
       "plot without title"
      ]
     },
     "metadata": {
      "image/png": {
       "height": 420,
       "width": 420
      }
     },
     "output_type": "display_data"
    }
   ],
   "source": [
    "set.seed(2019)\n",
    "\n",
    "##(1)##\n",
    "pm_multi <- \n",
    "    pm_data |> \n",
    "    select(Total:Speed) |> \n",
    "    mutate(across(everything(), scale))\n",
    "\n",
    "##(2)##\n",
    "pm_multi_elbow_stats <- \n",
    "    tibble(k = 1:10) |>\n",
    "    rowwise() |>\n",
    "    mutate(poke_clusts = list(kmeans(pm_multi, centers = k, nstart = 10)),   ##(i)##\n",
    "           glanced = list(glance(poke_clusts)))                              ##(ii)##\n",
    "\n",
    "##(3)##\n",
    "clustering_statistics <-\n",
    "    pm_multi_elbow_stats |>\n",
    "    select(-poke_clusts) |>\n",
    "    unnest(glanced)\n",
    "\n",
    "##(4)##\n",
    "pm_multi_elbow_plot <- \n",
    "    ggplot(clustering_statistics, aes(x = k, y = tot.withinss)) +\n",
    "    geom_point(size = 2) +\n",
    "    geom_line() +\n",
    "    labs(x = \"K\",\n",
    "         y = \"Total within-cluster sum of squares\",\n",
    "         title = \"Elbow Plot\") +\n",
    "    scale_x_continuous(breaks = 1:10) +\n",
    "    theme(text = element_text(size = 20))\n",
    "\n",
    "pm_multi_elbow_plot\n",
    "\n",
    "##(5)##\n",
    "# looking at the elbow plot we choose k optimal = 3 clusters therefore:\n",
    "pm_kmeans <- kmeans(pm_multi, centers = 3, nstart = 10)\n",
    "\n",
    "# pm_kmeans[1] # prints clusters assigned to each observation\n",
    "pm_kmeans[2] # prints cluster means\n",
    "# pm_kmeans[3] # prints total sum-of-squared-differences (total SSD)\n",
    "# pm_kmeans[4] # prints within-sum-of-squared-difference (WSSD) for each cluster\n",
    "# pm_kmeans[5] # prints total within-sum-of-squared-differences (total WSSD)\n",
    "# pm_kmeans[6] # prints total between-sum-of-squared-differences (total BSSD)\n",
    "# Note: total WSSD + total BSSD = total SSD\n",
    "# pm_kmeans[7] # prints size of each cluster"
   ]
  },
  {
   "cell_type": "code",
   "execution_count": 4,
   "id": "da35dd8d-ffff-49f2-836a-0c0ea09ea662",
   "metadata": {},
   "outputs": [
    {
     "data": {
      "image/png": "[encoded data removed]",
      "text/plain": [
       "plot without title"
      ]
     },
     "metadata": {
      "image/png": {
       "height": 480,
       "width": 900
      }
     },
     "output_type": "display_data"
    }
   ],
   "source": [
    "##(6)##\n",
    "cluster_assignments <- augment(pm_kmeans, pm_multi)\n",
    "\n",
    "##(7)##\n",
    "options(repr.plot.height = 8, repr.plot.width = 15)\n",
    "cluster_assignments |>\n",
    "    pivot_longer(cols = -.cluster, names_to = 'category', values_to = 'value')  |> \n",
    "    ggplot(aes(value, fill = .cluster)) +\n",
    "        geom_density(alpha = 0.4, colour = 'white') +\n",
    "        facet_wrap(~ category, scales = 'free') +\n",
    "        theme_minimal() +\n",
    "        theme(text = element_text(size = 20))"
   ]
  },
  {
   "cell_type": "markdown",
   "id": "3f2ca751-c459-45d0-bbac-121fe7f3ebb9",
   "metadata": {},
   "source": [
    "## Chapter 11: Inference I (Introduction to Statistical Inference)"
   ]
  },
  {
   "cell_type": "markdown",
   "id": "9594d6ec-5f92-4075-b0b9-dcb44e3f3d48",
   "metadata": {
    "tags": []
   },
   "source": [
    "### 11.0 Important packages for chapter 11\n",
    "___"
   ]
  },
  {
   "cell_type": "markdown",
   "id": "c0d6ecad-9e64-4868-bb63-67ceaf37140f",
   "metadata": {},
   "source": [
    "* `infer`\n",
    "    * provides us with the `rep_sample_n()` function."
   ]
  },
  {
   "cell_type": "markdown",
   "id": "f48b9e9d-d3e5-4a29-8132-50489ac74e8d",
   "metadata": {
    "tags": []
   },
   "source": [
    "### 11.1 What is inference?\n",
    "___"
   ]
  },
  {
   "cell_type": "markdown",
   "id": "17a004e0-0498-4a19-a05a-8bc2cc1647d1",
   "metadata": {},
   "source": [
    "* Data analysis questions regarding how summaries, patterns, trends, or relationships in a data set extend to the wider population are called inferential questions.  \n",
    "* This chapter will introduce two common techniques in statistical inference:  \n",
    "    1) Point Estimation  \n",
    "    2) Interval Estimation  \n",
    "  \n",
    "- Data analysis questions regarding how summaries, patterns, trends, or relationships in a data set extend to the wider population are called inferential questions.  \n",
    "- If our variable of interest is **Categorical**/**Binary**, the population parameter is likely to be **Population Proportion**.  \n",
    "- If our variable of interest is **Quantitative**/**Continuous**, the population parameter is likely to be **Population Mean**.  "
   ]
  },
  {
   "cell_type": "markdown",
   "id": "6ea173fb-29a5-4fa9-b7fb-5861de83ffd3",
   "metadata": {
    "tags": []
   },
   "source": [
    "### 11.2 Definitions\n",
    "___"
   ]
  },
  {
   "cell_type": "markdown",
   "id": "9b044d56-4bad-4516-8608-0866a0dd2aec",
   "metadata": {},
   "source": [
    "| Terms |  Definitions |\n",
    "|----------------|------------|\n",
    "| <p align=\"left\">Mean | <p align=\"left\">The sum of all of the data observations divided by how many observations there are. |\n",
    "| <p align=\"left\">Median | <p align=\"left\">The middle observation of a sorted variable’s data. |\n",
    "| <p align=\"left\">Variance | <p align=\"left\">The mean of the sum of the squared distances of each observation from the mean value of all observations. |\n",
    "| <p align=\"left\">Standard deviation | <p align=\"left\">The square root of the variance. |\n",
    "| <p align=\"left\">Proportion | <p align=\"left\">The number of entities/object with a specific characteristic divided by the total number of entities/objects. |\n",
    "| <p align=\"left\">Observation |  <p align=\"left\">A quantity or quality (or a set of these) from a single member of a population. |\n",
    "| <p align=\"left\">Population | <p align=\"left\">The entire set of entities/objects of interest. |\n",
    "| <p align=\"left\">Population Parameter | <p align=\"left\">A numerical summary value about the population. <p align=\"left\">_(Directly computing population parameters is often time-consuming and costly, and sometimes impossible)_ |\n",
    "| <p align=\"left\">Sample | <p align=\"left\">A subset of entities/objects in the population |\n",
    "| <p align=\"left\">Point Estimate | <p align=\"left\"> A single-value/statistic calculated from sample data that estimates an unknown population parameter of interest. <p align=\"left\">For example, the sample mean $\\bar{x}$ is a point estimate of the population mean $\\mu$. Similarly, the sample proportion $p$ is a point estimate of the population proportion $P$. <p align=\"left\">_(High variation in the sampling distribution of the sample mean causes point estimate to be unreliable.)_|\n",
    "| <p align=\"left\">Statistical Inference | <p align=\"left\">The process of using a sample to make a conclusion about the broader population from which it is taken is referred to as statistical inference. |\n",
    "| <p align=\"left\">Sample Variablity | <p align=\"left\">Estimates vary from sample to sample due to sampling variability.   |\n",
    "| <p align=\"left\">Sampling Distribution | <p align=\"left\">A distribution of point estimates, where each point estimate was calculated from a different random sample from the same population. |\n",
    "| <p align=\"left\">Random sampling | <p align=\"left\">electing a subset of observations from a population where each observation is equally likely to be selected at any point during the selection process. |\n",
    "| <p align=\"left\">Representative sampling | <p align=\"left\">selecting a subset of observations from a population where the sample’s characteristics are a good representation of the population’s characteristics |"
   ]
  },
  {
   "cell_type": "markdown",
   "id": "d0113e55-0b2f-4e6c-8ad1-d8f14b269826",
   "metadata": {
    "tags": []
   },
   "source": [
    "### 11.3 Important Concepts\n",
    "___"
   ]
  },
  {
   "cell_type": "markdown",
   "id": "aabc73b5-460c-4089-82a4-7494d139826f",
   "metadata": {},
   "source": [
    "- A **population** has **parameters** (i.e. mean, median, sd)\n",
    "- A **sample** has **statistics/point-estimates** (i.e. sample mean, sample median, sample sd)\n",
    "- **Statistic/point estimate** is an estimate of the **parameter**\n",
    "- A collection of **point estimates** form an **estimator.**\n",
    "- An **estimator** is a random variable whose distribution is the sampling distribution for a population parameter therefore a **point estimate** is an observation of this random variable.\n",
    "- From a **sample**, you can obtain the **estimator** (i.e. sampling distribution) by resampling and calculating point estimates for each re-sample.\n",
    "- The **standard deviation** of the **estimator** (i.e. sampling distribution) is also called the **standard error** of the **estimator.**\n",
    "- **Standard error** quantifies the variation/uncertainty associated with the **point estimates** in the **sampling distribution**.\n",
    "- We use a **sampling distribution** to give a range of plausible values for a **population** **parameter**. This range of values is known as a **confidence interval.**"
   ]
  },
  {
   "cell_type": "markdown",
   "id": "b0a002bf-1751-41d8-9baf-fb02f6e4c459",
   "metadata": {
    "tags": []
   },
   "source": [
    "### 11.4 Effects of choosing a large sample size\n",
    "___"
   ]
  },
  {
   "cell_type": "markdown",
   "id": "cd5f57ef-3c94-4b7e-a660-dffb4f939f25",
   "metadata": {},
   "source": [
    "1) The mean of the sample mean (across all samples) is equal to the population mean. In other words, the sampling distribution is centred at the population mean.\n",
    "2) Increasing the size of the sample decreases the spread (i.e., the variability) of the sampling distribution making it more narrow. Therefore, a larger sample size results in a more reliable point estimate of the population parameter.\n",
    "3) The distribution of the sample mean is roughly bell-shaped once the sample size is large enough."
   ]
  },
  {
   "cell_type": "markdown",
   "id": "deb329af-f885-4747-989d-6a9a16d85bca",
   "metadata": {
    "tags": []
   },
   "source": [
    "### 11.5 Example code for sampling distribution \n",
    "___"
   ]
  },
  {
   "cell_type": "markdown",
   "id": "a9167ebe-00e1-47ab-a5ed-596542a76c1c",
   "metadata": {},
   "source": [
    "```{r}\n",
    "------------------------------------------------------------------------------------\n",
    "SAMPLING DISTRIBUTION for SAMPLE PROPORTION\n",
    "------------------------------------------------------------------------------------\n",
    "set.seed(123)\n",
    "\n",
    "samples <- rep_sample_n(airbnb, size = 40, reps = 20000)\n",
    "samples\n",
    "\n",
    "sample_estimates <- samples |>\n",
    "  group_by(replicate) |>\n",
    "  summarize(sample_proportion = sum(room_type == \"Entire home/apt\") / 40)\n",
    "sample_estimates\n",
    "\n",
    "\n",
    "sampling_distribution <- ggplot(sample_estimates, aes(x = sample_proportion)) +\n",
    "  geom_histogram(fill = \"dodgerblue3\", color = \"lightgrey\", bins = 12) +\n",
    "  xlab(\"Sample proportions\")\n",
    "sampling_distribution\n",
    "\n",
    "sample_estimates |>\n",
    "  summarize(mean = mean(sample_proportion))\n",
    "\n",
    "\n",
    "------------------------------------------------------------------------------------\n",
    "SAMPLING DISTRIBUTION for SAMPLE MEAN\n",
    "------------------------------------------------------------------------------------\n",
    "set.seed(123)\n",
    "\n",
    "samples <- rep_sample_n(airbnb, size = 40, reps = 20000)\n",
    "samples\n",
    "\n",
    "sample_estimates <- samples |>\n",
    "  group_by(replicate) |>\n",
    "  summarize(sample_mean = mean(price))\n",
    "sample_estimates\n",
    "\n",
    "\n",
    "sampling_distribution_40 <- ggplot(sample_estimates, aes(x = sample_mean)) +\n",
    "  geom_histogram(fill = \"dodgerblue3\", color = \"lightgrey\") +\n",
    "  xlab(\"Sample mean price per night ($)\") +\n",
    "  theme(text = element_text(size = 20))\n",
    "sampling_distribution_40\n",
    "```"
   ]
  },
  {
   "cell_type": "markdown",
   "id": "d8f6c887-49be-472e-bf4a-a17966f70e1d",
   "metadata": {
    "tags": []
   },
   "source": [
    "### 11.6 Review Questions for Chapter 11\n",
    "___"
   ]
  },
  {
   "cell_type": "markdown",
   "id": "bd4eec2a-970e-491f-8872-99dee296e305",
   "metadata": {},
   "source": [
    "_**Q1)**_ What are two parameters that are typically used to describe the centre of a distribution?\n",
    "\n",
    "- *Median & mean*\n",
    "\n",
    "---\n",
    "\n",
    "_**Q2)**_ In one or two sentences, explain what a sampling distribution of sample means is in your own words. Do not use the word \"distribution\" in your explanation.\n",
    "\n",
    "- *A sampling distribution of sample means is simply a collection of sample means calculated from several different samples taken from a population. These sample means are then displayed on a graph which represents the sampling distribution.*\n",
    "\n",
    "---\n",
    "\n",
    "_**Q3)**_ A distribution shows all possible values (or intervals) of a variable, and how often they occur?\n",
    "\n",
    "- *TRUE*\n",
    "\n",
    "---\n",
    "\n",
    "_**Q4)**_ Are the following statements all true?\n",
    "\n",
    "1. The sample distributions from different random samples will vary a bit depending on which values are captured in the sample.\n",
    "2. The sample distributions from different random samples are of a similar shape to the population distribution.\n",
    "3. The point estimates from different random samples are close to the true population parameter, but they vary a bit depending which values are captured in the sample\n",
    "- *TRUE*\n",
    "\n",
    "---\n",
    "\n",
    "_**Q5)**_ Taking a random sample and calculating a point estimate is a \"good guess\" of the unknown population parameter you are interested in.\n",
    "\n",
    "- *TRUE*\n",
    "\n",
    "---\n",
    "\n",
    "_**Q6)**_ Can you estimate a population parameter with a single point estimate?\n",
    "\n",
    "- *A single point estimate might be inaccurate, depending on who ends up in the random sample.*\n",
    "\n",
    "---\n",
    "\n",
    "_**Q7)**_ The distribution of a single sample will always have a similar shape to the population distribution.\n",
    "\n",
    "- *FALSE*\n",
    "\n",
    "---\n",
    "\n",
    "_**Q8)**_ How do we quantify the variation of the point estimates in a sampling distribution?\n",
    "\n",
    "- *By using standard deviation of the sampling distribution, which is called the standard error.*\n",
    "\n",
    "---\n",
    "\n",
    "_**Q9)**_ Given that an \"estimator\" is a random variable whose distribution is the sampling distribution for a population parameter, a point estimate is an observation of a random variable.\n",
    "\n",
    "- *TRUE*\n",
    "\n",
    "---\n",
    "\n",
    "_**Q10)**_ Are all the following statements TRUE?\n",
    "\n",
    "1. As the sample size increases, the sampling distribution becomes narrower.\n",
    "2. As the sample size increases, there are more sample point estimates closer to the true population mean.\n",
    "3. As the sample size increases, the sampling distribution appears more bell-shaped.\n",
    "4. As the sample size increases, the standard error of the estimator decreases.\n",
    "- *TRUE*\n",
    "\n",
    "---\n",
    "\n",
    "_**Q11)**_ Why don't we always take a large number of samples when exploring sampling distributions so we can get a nice, smooth distribution?\n",
    "\n",
    "- *Taking a large number of samples is computationally expensive.*\n",
    "- *We can get a good approximation of the \"smoother\" sampling distribution by using less sample repetitions, but larger bin widths in our histogram.*\n",
    "\n",
    "<br>"
   ]
  },
  {
   "cell_type": "markdown",
   "id": "49246b4d-a29e-43dd-963a-e8da192e982b",
   "metadata": {},
   "source": [
    "## Chapter 12: Inference II (Bootstrapping)"
   ]
  },
  {
   "cell_type": "markdown",
   "id": "abbc0a04-af5a-4583-b56c-fd4abc9a6857",
   "metadata": {
    "tags": []
   },
   "source": [
    "### 12.1 What is Bootstrapping?\n",
    "___"
   ]
  },
  {
   "cell_type": "markdown",
   "id": "e17a1d95-5732-4657-bc60-e540d2cf1433",
   "metadata": {
    "tags": []
   },
   "source": [
    "- Bootstrapping is the idea of sampling from our original sample with replacement (also called resampling **with replacement**) to generate a bootstrap sampling distribution.\n",
    "- Sampling with replacement means that each time we choose an observation from the population or sample, we return it before randomly selecting another.\n",
    "- With this procedure, the original sample acts as an estimate of the population, and resampling with replacement gives us enough samples and results in enough sampling variation necessary to produce an approximation of the sampling distributions we have generated in the previous weeks"
   ]
  },
  {
   "cell_type": "markdown",
   "id": "1f10573d-39d4-4499-bdfc-ae8a15e27eee",
   "metadata": {
    "tags": []
   },
   "source": [
    "### 12.2 Why Bootstrapping?\n",
    "___"
   ]
  },
  {
   "cell_type": "markdown",
   "id": "8498fe34-c251-43d9-ba21-eb80fa5f82a8",
   "metadata": {},
   "source": [
    "- In **Inference I**, we had access to the population which allowed us to evaluate how accurate the estimate was, and even get a sense of how much the estimate would vary for different samples from the population.\n",
    "- Often times we do not have access to the population of a variable.\n",
    "- Remember that the sampling distribution allows us to study sampling variation (i.e. range of plausible values for the estimator).\n",
    "- Since the (true) sampling distribution of an estimator can only be formed by taking repeated samples from the population, if we do not have access to the population, we can not create the sampling distribution.\n",
    "- In this case, bootstrapping (or specifically, **bootstrap resampling with replacement)** can be very useful.\n",
    "- Bootstrapping allows us to study sampling variation without taking more samples from the population to produce a sampling distribution that approximates the true sampling distribution."
   ]
  },
  {
   "cell_type": "markdown",
   "id": "9733a527-6eef-4b4d-9dfa-ec5e68a6d31e",
   "metadata": {},
   "source": [
    "### 12.3 How to create a Bootstrap (sampling) distribution from a single sample\n",
    "___"
   ]
  },
  {
   "cell_type": "markdown",
   "id": "db0ddc41-faea-4d86-bb19-890e9b482197",
   "metadata": {},
   "source": [
    "For a sample of size $n$, you:\n",
    "\n",
    "1. Randomly select an observation from the original sample, which was drawn from the population\n",
    "2. Record the observation’s value\n",
    "3. Replace that observation\n",
    "4. Repeat steps 1 - 3 (sampling with replacement) until you have $n$ observations, which form a bootstrap sample\n",
    "> Steps 1-4 give you one bootstrap sample.  \n",
    "> When repeated several times, you get several bootstrap samples.  \n",
    "> R creates several bootstrap samples using `rep_sample_n(size = n, replace = TRUE, reps = ...)`  \n",
    "5. Calculate the bootstrap point estimate (e.g., mean, median, proportion, slope, etc.) of the $n$ observations in your bootstrap sample  \n",
    "6. Repeat steps (1) - (5) many times to create a distribution of point estimates (the bootstrap distribution)  \n",
    "7. Calculate the plausible range of values around our observed point estimate.  \n",
    "> Step 7 is accomplished using the following code:  \n",
    ">```{r}\n",
    ">rep_sample_n(size = n, replace = TRUE, reps = ...) |>\n",
    "        group_by(replicate) |>\n",
    "        summarize(mean = mean(...))\n",
    ">```\n"
   ]
  },
  {
   "cell_type": "markdown",
   "id": "7ec45ed6-b146-4c61-8e39-c59772f6bf78",
   "metadata": {},
   "source": [
    "#### **<u>Example Code:</u>**\n",
    "\n",
    "\n",
    "```{r}\n",
    "------------------------------------------------------------------------------------\n",
    "BOOTSTRAP (SAMPLE) DISTRIBUTIONS for 6 bootstrap samples\n",
    "------------------------------------------------------------------------------------\n",
    "boot20000 <- one_sample |>\n",
    "  rep_sample_n(size = 40, replace = TRUE, reps = 20000)\n",
    "\n",
    "\n",
    "#Let’s take a look at histograms of the first six replicates of our bootstrap samples.\n",
    "six_bootstrap_samples <- boot20000 |>\n",
    "  filter(replicate <= 6)\n",
    "\n",
    "ggplot(six_bootstrap_samples, aes(price)) +\n",
    "  geom_histogram(fill = \"dodgerblue3\", color = \"lightgrey\") +\n",
    "  xlab(\"Price per night ($)\") +\n",
    "  facet_wrap(~replicate) +\n",
    "  ggtitle(\"Bootstrap Sample Distribution for 6 bootstrap samples\") +\n",
    "  theme(text = element_text(size = 20))\n",
    "\n",
    "six_bootstrap_samples |>\n",
    "  group_by(replicate) |>\n",
    "  summarize(mean = mean(price))\n",
    "\n",
    "# We can see that the bootstrap sample distributions and the sample means are different. \n",
    "# They are different because we are sampling with replacement.\n",
    "\n",
    "\n",
    "------------------------------------------------------------------------------------\n",
    "BOOTSTRAP (SAMPLING) DISTRIBUTION\n",
    "------------------------------------------------------------------------------------\n",
    "boot20000 <- one_sample |>\n",
    "  rep_sample_n(size = 40, replace = TRUE, reps = 20000)\n",
    "\n",
    "boot20000_means <- boot20000 |>\n",
    "  group_by(replicate) |>\n",
    "  summarize(mean = mean(price))\n",
    "boot20000_means\n",
    "\n",
    "boot_est_dist <- ggplot(boot20000_means, aes(x = mean)) +\n",
    "  geom_histogram(fill = \"dodgerblue3\", color = \"lightgrey\") +\n",
    "  xlab(\"Sample mean price per night ($)\") +\n",
    "  ggtitle(\"Bootstrap Distribution\") +\n",
    "  theme(text = element_text(size = 20))\n",
    "boot_est_dist\n",
    "\n",
    "```\n",
    "<br>"
   ]
  },
  {
   "cell_type": "markdown",
   "id": "fd796bc3-38b9-4fd1-9e51-21fe88c6fa97",
   "metadata": {},
   "source": [
    "### 12.4 True sampling distribution vs Bootstrap (sampling) distribution:\n",
    "___"
   ]
  },
  {
   "cell_type": "markdown",
   "id": "b2ec89da-d6d7-4866-91fd-0d5a0d8c606c",
   "metadata": {},
   "source": [
    "1) The shape and spread of the true sampling distribution and the bootstrap distribution are similar:  \n",
    "   - The bootstrap distribution lets us get a sense of the point estimate’s variability. \n",
    "   - Therefore, in real life, where we only have one sample and cannot create a sampling distribution, the distribution of the bootstrap sample estimates (here means) can suggest how we might expect our point estimate to behave if we took another sample. \n",
    "\n",
    "\n",
    "2) The mean of the bootstrap sampling distribution is not the same value as the mean of the sampling distribution because the bootstrap sampling distribution was created from samples drawn from a single sample, whereas the sampling distribution was created from samples drawn from the population.  \n",
    "    - The sampling distribution is centred at \\\\$154.51, the **population mean** value  \n",
    "    - The bootstrap distribution is centred at the **original sample mean's** price per night, \\\\$149.56.\n",
    "\n",
    ">Because we are resampling from the original sample repeatedly, we see that the bootstrap distribution is centred at the original sample’s mean value (unlike the sampling distribution of the sample mean, which is centred at the population parameter value)."
   ]
  },
  {
   "cell_type": "markdown",
   "id": "a2db109b-d62f-47af-aa57-c721c057060b",
   "metadata": {},
   "source": [
    "### 12.5 Important concepts\n",
    "___\n",
    "\n",
    "- **Repeated bootstrap samples** (re-samples with replacement) form the **bootstrap sampling distribution**.\n",
    "- **Bootstrap (sampling) distribution** estimates the **(true) sampling distribution**.\n",
    "- **Standard deviation** of the **bootstrap sampling distribution** estimates the **standard error** of the **(true) sampling distribution.**"
   ]
  },
  {
   "cell_type": "markdown",
   "id": "9606a8c8-3cbd-4547-ba8c-563089bf1ff1",
   "metadata": {
    "tags": []
   },
   "source": [
    "### 12.6 What is a Confidence Interval\n",
    "___"
   ]
  },
  {
   "cell_type": "markdown",
   "id": "188e9c8c-bdee-40c1-b547-edcb4c9001b7",
   "metadata": {},
   "source": [
    "- One should think of a **confidence interval** as a **range of plausible values** for the **population parameter**, which may or may not fall within the interval. This is significantly different than a **point estimate**, which is a **single plausible value** for the **population parameter**.\n",
    "- We can interpret a 90% confidence interval as: we are 90% confident that the true mean is captured by the interval. Or, in other words, across all 90% confidence intervals that could be calculated for the mean of the population of interest, we can expect that 90% of the intervals contain the true mean.\n",
    "\n",
    "> _**Incorrect interpretation:**_ There is a 90% chance that the true parameter of the population will fall within this interval.\n",
    "\n",
    "- A higher confidence level corresponds to a wider range of the interval, and a lower confidence level corresponds to a narrower range.\n",
    "- Choosing the level of confidence depends on the application: i.e If our decision impacts human life and the implications of being wrong are deadly, we may want to be very confident and choose a higher confidence level."
   ]
  },
  {
   "cell_type": "markdown",
   "id": "33a54cc7-ffd2-4579-82f0-2884500386cc",
   "metadata": {},
   "source": [
    "### 12.7 How to calculate a 95% percentile bootstrap confidence interval\n",
    "___"
   ]
  },
  {
   "cell_type": "markdown",
   "id": "63e582d6-f4df-4ee1-ac66-3d9701746487",
   "metadata": {},
   "source": [
    "1) Arrange the observations in the bootstrap distribution in ascending order\n",
    "2) Find the value such that 2.5% of observations fall below it (the 2.5% percentile). Use that value as the lower bound of the interval\n",
    "3) Find the value such that 97.5% of observations fall below it (the 97.5% percentile). Use that value as the upper bound of the interval\n",
    "4) Our interval will capture the middle 95% of the sample mean prices in the bootstrap distribution.\n",
    "\n",
    "##### **<u>Example Code:</u>**\n",
    "\n",
    "```{r}\n",
    "bounds <- boot20000_means |>\n",
    "  select(mean) |>\n",
    "  pull() |>\n",
    "  quantile(c(0.025, 0.975))\n",
    "bounds\n",
    "```"
   ]
  },
  {
   "cell_type": "markdown",
   "id": "e4a5e9cd-b06f-4972-b62c-a0ac1d8dc3f1",
   "metadata": {},
   "source": [
    "##### **<u>How to report the POINT ESTIMATE and its associated CONFIDENCE INTERVAL:</u>**\n",
    "\n",
    "The sample mean price-per-night of 40 Airbnb listings was \\\\$149.68, and we are 95% “confident” that the true population mean price-per-night for all Airbnb listings in Vancouver is between \\\\$(127.5, 174.93).\n",
    "\n",
    "<br>"
   ]
  },
  {
   "cell_type": "markdown",
   "id": "85d9eff6-a2be-44d8-97d0-dcdb7413b506",
   "metadata": {
    "tags": []
   },
   "source": [
    "### 12.8 Review Questions for Chapter 12\n",
    "___"
   ]
  },
  {
   "cell_type": "markdown",
   "id": "7f087e66-4117-423d-9738-2fdf32ae87fa",
   "metadata": {},
   "source": [
    "_**Q1)**_ Are ALL the following statements TRUE:\n",
    "\n",
    "1. The centre of the sampling distribution and bootstrap sampling distributions with the same sample size are different.\n",
    "2. The width of the sampling distribution and bootstrap sampling distributions with the same sample size are different.\n",
    "3. For both the sampling distributions and bootstrap sampling distributions, as the sample size increase, the standard deviation decreases.\n",
    "4. For both the sampling distributions and bootstrap sampling distributions, as the sample size increase, the distributions appear more bell-shaped.\n",
    "- *TRUE*\n",
    "\n",
    "---\n",
    "\n",
    "_**Q2)**_ When we only have access to a single sample from the population of interest, we can obtain a useful approximation of standard error (specifically, the standard deviation of the distribution of an estimator, or more generally, how much we expect our point estimates to vary) by producing a bootstrap sampling distribution?\n",
    "\n",
    "- *TRUE*\n",
    "\n",
    "---\n",
    "\n",
    "_**Q3)**_ What is BOOTSTRAPPING useful for?\n",
    "\n",
    "- *If you want to quantify the effects of sampling variation when you only have a single sample to work with, bootstrapping resampling will not only help us obtain a single estimate of the unknown population parameter, but also a range of highly plausible values.*\n",
    "\n",
    "---\n",
    "\n",
    "_**Q4)**_ A bootstrap sampling distribution will always have a similar width as the sampling distribution it is approximating.\n",
    "\n",
    "- *FALSE*\n",
    "\n",
    "---\n",
    "\n",
    "_**Q5)**_ Explain why it's not a good idea to take bootstrap sizes of a larger size than the original sample to estimate the sampling distribution for the original sample size.\n",
    "\n",
    "- *Taking bootstrap sizes of a larger size than the original sample may give us a good estimate of the standard deviation but their spread no longer directly relates to the standard error we are trying to estimate. This is because we are making the distribution arbitrarily tight. This is observed by the fact that our bootstrap sampling distribution is tighter than our sampling distribution.*\n",
    "- _If re-sample size is **LARGER** than original sample, then your SD estimate will be an **UNDERESTIMATE**._\n",
    "- _If re-sample size is **SMALLER** than original sample, then your SD estimate will be an **OVERESTIMATE.**_\n",
    "\n",
    "---\n",
    "\n",
    "_**Q6)**_ Are ALL the following statements TRUE?\n",
    "\n",
    "1. As sample size increases, the standard deviation of the bootstrap sampling distribution resulting from a given sample generally decreases.\n",
    "2. The standard deviation of a bootstrap sampling distribution can provide a reliable estimate of the standard error of an estimator, even if the estimator's distribution is asymmetrical.\n",
    "3. The procedure for drawing a normal sample and a bootstrap sample are very similar, with the exception of where we sample from, and the type of sampling (with vs. without replacement).\n",
    "- *TRUE*"
   ]
  }
 ],
 "metadata": {
  "kernelspec": {
   "display_name": "R",
   "language": "R",
   "name": "ir"
  },
  "language_info": {
   "codemirror_mode": "r",
   "file_extension": ".r",
   "mimetype": "text/x-r-source",
   "name": "R",
   "pygments_lexer": "r",
   "version": "4.1.1"
  }
 },
 "nbformat": 4,
 "nbformat_minor": 5
}
